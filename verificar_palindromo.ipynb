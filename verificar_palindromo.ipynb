{
  "nbformat": 4,
  "nbformat_minor": 0,
  "metadata": {
    "colab": {
      "provenance": [],
      "authorship_tag": "ABX9TyPZGo+zSz9EYevGTPaqZN2E",
      "include_colab_link": true
    },
    "kernelspec": {
      "name": "python3",
      "display_name": "Python 3"
    },
    "language_info": {
      "name": "python"
    }
  },
  "cells": [
    {
      "cell_type": "markdown",
      "metadata": {
        "id": "view-in-github",
        "colab_type": "text"
      },
      "source": [
        "<a href=\"https://colab.research.google.com/github/italo129/quick_sort/blob/main/verificar_palindromo.ipynb\" target=\"_parent\"><img src=\"https://colab.research.google.com/assets/colab-badge.svg\" alt=\"Open In Colab\"/></a>"
      ]
    },
    {
      "cell_type": "code",
      "execution_count": 17,
      "metadata": {
        "colab": {
          "base_uri": "https://localhost:8080/"
        },
        "id": "vPQErrLnixUh",
        "outputId": "c170993d-a20e-4c4c-95f1-c7e8fb36c4b9"
      },
      "outputs": [
        {
          "output_type": "stream",
          "name": "stdout",
          "text": [
            "Digite a palavra: arara\n",
            "nao é\n"
          ]
        }
      ],
      "source": [
        "palin = input(\"Digite a palavra: \")\n",
        "pt = [palin]\n",
        "pt2 = pt.reverse()\n",
        "pt3 = [pt2]\n",
        "if pt3 == pt:\n",
        "  print ('é palíndromo')\n",
        "\n",
        "else:\n",
        "  print('nao é')\n"
      ]
    },
    {
      "cell_type": "code",
      "source": [
        "def criar_palindromo(texto):\n",
        "    texto = texto.lower().replace(\" \", \"\").replace(\",\", \"\").replace(\".\", \"\")\n",
        "    invertido = texto[::-1]\n",
        "\n",
        "    if texto == invertido:\n",
        "        return True\n",
        "    else:\n",
        "        return False\n",
        "\n",
        "entrada = input(\"Digite uma palavra ou frase: \")\n",
        "if criar_palindromo(entrada):\n",
        "    print(\"A entrada é um palíndromo!\")\n",
        "else:\n",
        "    print(\"A entrada não é um palíndromo!\")"
      ],
      "metadata": {
        "colab": {
          "base_uri": "https://localhost:8080/"
        },
        "id": "irKUCSHJmga6",
        "outputId": "6650a1e0-e938-4789-ae71-7e3edd3938e5"
      },
      "execution_count": 19,
      "outputs": [
        {
          "output_type": "stream",
          "name": "stdout",
          "text": [
            "Digite uma palavra ou frase: arara\n",
            "A entrada é um palíndromo!\n"
          ]
        }
      ]
    },
    {
      "cell_type": "code",
      "source": [
        "\n",
        "texto = input('digite: ')\n",
        "invertido = texto[::-1]\n",
        "\n",
        "\n",
        "print (invertido)"
      ],
      "metadata": {
        "colab": {
          "base_uri": "https://localhost:8080/"
        },
        "id": "-joHOqo4m3QY",
        "outputId": "fb9babcf-8f0e-44a8-8fe4-edf363be690b"
      },
      "execution_count": 21,
      "outputs": [
        {
          "output_type": "stream",
          "name": "stdout",
          "text": [
            "digite: ouvigvitiytfrdurih\n",
            "hirudrftyitivgivuo\n"
          ]
        }
      ]
    },
    {
      "cell_type": "code",
      "source": [],
      "metadata": {
        "id": "ZVJYHimangAD"
      },
      "execution_count": null,
      "outputs": []
    }
  ]
}